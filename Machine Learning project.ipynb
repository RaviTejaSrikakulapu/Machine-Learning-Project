{
  "nbformat": 4,
  "nbformat_minor": 0,
  "metadata": {
    "colab": {
      "name": "Untitled0.ipynb",
      "provenance": []
    },
    "kernelspec": {
      "name": "python3",
      "display_name": "Python 3"
    }
  },
  "cells": [
    {
      "cell_type": "code",
      "metadata": {
        "id": "VHk9l0mrmwaC",
        "colab_type": "code",
        "colab": {}
      },
      "source": [
        "!pip install -U -q PyDrive\n",
        "from pydrive.auth import GoogleAuth\n",
        "from pydrive.drive import GoogleDrive\n",
        "from google.colab import auth\n",
        "from oauth2client.client import GoogleCredentials"
      ],
      "execution_count": 0,
      "outputs": []
    },
    {
      "cell_type": "code",
      "metadata": {
        "id": "6B9POIA6m41x",
        "colab_type": "code",
        "colab": {}
      },
      "source": [
        "auth.authenticate_user()\n",
        "gauth = GoogleAuth()\n",
        "gauth.credentials = GoogleCredentials.get_application_default()\n",
        "drive = GoogleDrive(gauth)"
      ],
      "execution_count": 0,
      "outputs": []
    },
    {
      "cell_type": "code",
      "metadata": {
        "id": "DYapBUqqnD-F",
        "colab_type": "code",
        "colab": {}
      },
      "source": [
        "downloaded = drive.CreateFile({'id':'1Tgb3xCiND20Unzljwws51CrYskTJQLwj'}) # replace the id with id of file you want to access\n",
        "downloaded.GetContentFile('dataset.csv')"
      ],
      "execution_count": 0,
      "outputs": []
    },
    {
      "cell_type": "markdown",
      "metadata": {
        "id": "2Q8VJ-3tUSPf",
        "colab_type": "text"
      },
      "source": [
        "### Loading Libraries:"
      ]
    },
    {
      "cell_type": "code",
      "metadata": {
        "id": "iWRqI8byT8_c",
        "colab_type": "code",
        "colab": {}
      },
      "source": [
        "import seaborn as sns\n",
        "import matplotlib.pyplot as plt\n",
        "from sklearn.feature_extraction.text import CountVectorizer, TfidfVectorizer\n",
        "from sklearn.preprocessing import LabelBinarizer, LabelEncoder\n",
        "from sklearn.model_selection import train_test_split, cross_val_score\n",
        "from sklearn.metrics import mean_squared_error,r2_score\n",
        "import pandas as pd\n",
        "import warnings\n",
        "warnings.filterwarnings('ignore')"
      ],
      "execution_count": 0,
      "outputs": []
    },
    {
      "cell_type": "markdown",
      "metadata": {
        "id": "rOC5AZ6NgAkc",
        "colab_type": "text"
      },
      "source": [
        "### Loading Dataset:"
      ]
    },
    {
      "cell_type": "code",
      "metadata": {
        "id": "Z5nL7wlfnXxA",
        "colab_type": "code",
        "outputId": "7a69650e-8b36-4a04-a74a-177b57850cd0",
        "colab": {
          "base_uri": "https://localhost:8080/",
          "height": 279
        }
      },
      "source": [
        "df=pd.read_csv(\"dataset.csv\")\n",
        "df.head()"
      ],
      "execution_count": 67,
      "outputs": [
        {
          "output_type": "execute_result",
          "data": {
            "text/html": [
              "<div>\n",
              "<style scoped>\n",
              "    .dataframe tbody tr th:only-of-type {\n",
              "        vertical-align: middle;\n",
              "    }\n",
              "\n",
              "    .dataframe tbody tr th {\n",
              "        vertical-align: top;\n",
              "    }\n",
              "\n",
              "    .dataframe thead th {\n",
              "        text-align: right;\n",
              "    }\n",
              "</style>\n",
              "<table border=\"1\" class=\"dataframe\">\n",
              "  <thead>\n",
              "    <tr style=\"text-align: right;\">\n",
              "      <th></th>\n",
              "      <th>Unique Id</th>\n",
              "      <th>Image</th>\n",
              "      <th>Brand</th>\n",
              "      <th>Title</th>\n",
              "      <th>Specifications</th>\n",
              "      <th>Highlights</th>\n",
              "      <th>Price</th>\n",
              "      <th>Rating</th>\n",
              "    </tr>\n",
              "  </thead>\n",
              "  <tbody>\n",
              "    <tr>\n",
              "      <th>0</th>\n",
              "      <td>0697f1714bf848c4b1cacc39a46a4e8b</td>\n",
              "      <td>https://images-na.ssl-images-amazon.com/images...</td>\n",
              "      <td>RoadPro</td>\n",
              "      <td>RoadPro RP-100C 10' AM/FM Antenna Coaxial Cable</td>\n",
              "      <td>[{'Brand': 'RoadPro'}, {'Model': 'RP-100C'}, {...</td>\n",
              "      <td>Make sure this fits by entering your model num...</td>\n",
              "      <td>12.99</td>\n",
              "      <td>4.7</td>\n",
              "    </tr>\n",
              "    <tr>\n",
              "      <th>1</th>\n",
              "      <td>f04481fec10c4a538634d01e04bb45ed</td>\n",
              "      <td>https://images-na.ssl-images-amazon.com/images...</td>\n",
              "      <td>YSense</td>\n",
              "      <td>5-6 Packs Baby Girl Cute Headband - Turban Hea...</td>\n",
              "      <td>[{}]</td>\n",
              "      <td>Material: Made of elastic synthetic cotton, so...</td>\n",
              "      <td>9.99</td>\n",
              "      <td>5.0</td>\n",
              "    </tr>\n",
              "    <tr>\n",
              "      <th>2</th>\n",
              "      <td>754577bc25b24641ab1b0aef5e19db73</td>\n",
              "      <td>https://images-na.ssl-images-amazon.com/images...</td>\n",
              "      <td>Wooden Camera</td>\n",
              "      <td>Wooden Camera - PL Mount (Weapon/Scarlet-W/Epi...</td>\n",
              "      <td>[{'Product Dimensions': '3.2 x 1.8 x 3.2 inche...</td>\n",
              "      <td>Make sure this fits by entering your model num...</td>\n",
              "      <td>379.18</td>\n",
              "      <td>3.3</td>\n",
              "    </tr>\n",
              "    <tr>\n",
              "      <th>3</th>\n",
              "      <td>b4c5f6d192124d70919946ea754cce56</td>\n",
              "      <td>https://images-na.ssl-images-amazon.com/images...</td>\n",
              "      <td>Global-store</td>\n",
              "      <td>Globalstore 12x25 Folding High-Grade Binocular...</td>\n",
              "      <td>[{'Product Dimensions': '3.9 x 3.9 x 2 inches'...</td>\n",
              "      <td>Make sure this fits by entering your model num...</td>\n",
              "      <td>19.97</td>\n",
              "      <td>5.0</td>\n",
              "    </tr>\n",
              "    <tr>\n",
              "      <th>4</th>\n",
              "      <td>b1a1b9c3926b4da1ab0040ea81b41e3e</td>\n",
              "      <td>https://images-na.ssl-images-amazon.com/images...</td>\n",
              "      <td>GBTIGER</td>\n",
              "      <td>120 inch Portable Projection Screen with Bag, ...</td>\n",
              "      <td>[{'Brand Name': 'GBTIGER'}, {'Item Weight': '2...</td>\n",
              "      <td>Make sure this fits by entering your model num...</td>\n",
              "      <td>27.99</td>\n",
              "      <td>3.0</td>\n",
              "    </tr>\n",
              "  </tbody>\n",
              "</table>\n",
              "</div>"
            ],
            "text/plain": [
              "                          Unique Id  ... Rating\n",
              "0  0697f1714bf848c4b1cacc39a46a4e8b  ...    4.7\n",
              "1  f04481fec10c4a538634d01e04bb45ed  ...    5.0\n",
              "2  754577bc25b24641ab1b0aef5e19db73  ...    3.3\n",
              "3  b4c5f6d192124d70919946ea754cce56  ...    5.0\n",
              "4  b1a1b9c3926b4da1ab0040ea81b41e3e  ...    3.0\n",
              "\n",
              "[5 rows x 8 columns]"
            ]
          },
          "metadata": {
            "tags": []
          },
          "execution_count": 67
        }
      ]
    },
    {
      "cell_type": "code",
      "metadata": {
        "id": "FhtPiEO0nsr_",
        "colab_type": "code",
        "outputId": "83475d5f-a323-4c96-f16d-b06348604406",
        "colab": {
          "base_uri": "https://localhost:8080/",
          "height": 34
        }
      },
      "source": [
        "df.shape"
      ],
      "execution_count": 68,
      "outputs": [
        {
          "output_type": "execute_result",
          "data": {
            "text/plain": [
              "(51500, 8)"
            ]
          },
          "metadata": {
            "tags": []
          },
          "execution_count": 68
        }
      ]
    },
    {
      "cell_type": "code",
      "metadata": {
        "id": "AbcZWni3rCZi",
        "colab_type": "code",
        "outputId": "45f7f32c-aa0d-40c7-d57b-4f0914c2454f",
        "colab": {
          "base_uri": "https://localhost:8080/",
          "height": 67
        }
      },
      "source": [
        "df.columns"
      ],
      "execution_count": 69,
      "outputs": [
        {
          "output_type": "execute_result",
          "data": {
            "text/plain": [
              "Index(['Unique Id', 'Image', 'Brand', 'Title', 'Specifications', 'Highlights',\n",
              "       'Price', 'Rating'],\n",
              "      dtype='object')"
            ]
          },
          "metadata": {
            "tags": []
          },
          "execution_count": 69
        }
      ]
    },
    {
      "cell_type": "code",
      "metadata": {
        "id": "y_-KWCparEkG",
        "colab_type": "code",
        "outputId": "3fc2f0c5-0b8b-4316-b758-85aeac16ab40",
        "colab": {
          "base_uri": "https://localhost:8080/",
          "height": 235
        }
      },
      "source": [
        "df.info()"
      ],
      "execution_count": 70,
      "outputs": [
        {
          "output_type": "stream",
          "text": [
            "<class 'pandas.core.frame.DataFrame'>\n",
            "RangeIndex: 51500 entries, 0 to 51499\n",
            "Data columns (total 8 columns):\n",
            "Unique Id         51500 non-null object\n",
            "Image             47967 non-null object\n",
            "Brand             51497 non-null object\n",
            "Title             51499 non-null object\n",
            "Specifications    51500 non-null object\n",
            "Highlights        51498 non-null object\n",
            "Price             51500 non-null object\n",
            "Rating            51500 non-null float64\n",
            "dtypes: float64(1), object(7)\n",
            "memory usage: 3.1+ MB\n"
          ],
          "name": "stdout"
        }
      ]
    },
    {
      "cell_type": "markdown",
      "metadata": {
        "id": "a0LAzrLVgKNL",
        "colab_type": "text"
      },
      "source": [
        "### Checking for Null values:"
      ]
    },
    {
      "cell_type": "code",
      "metadata": {
        "id": "V9JgysaYrHP2",
        "colab_type": "code",
        "outputId": "b9ec3d5e-2b63-47ad-a085-e9404b0986ad",
        "colab": {
          "base_uri": "https://localhost:8080/",
          "height": 168
        }
      },
      "source": [
        "df.isnull().sum()"
      ],
      "execution_count": 71,
      "outputs": [
        {
          "output_type": "execute_result",
          "data": {
            "text/plain": [
              "Unique Id            0\n",
              "Image             3533\n",
              "Brand                3\n",
              "Title                1\n",
              "Specifications       0\n",
              "Highlights           2\n",
              "Price                0\n",
              "Rating               0\n",
              "dtype: int64"
            ]
          },
          "metadata": {
            "tags": []
          },
          "execution_count": 71
        }
      ]
    },
    {
      "cell_type": "code",
      "metadata": {
        "id": "SigMDbua1bWf",
        "colab_type": "code",
        "colab": {}
      },
      "source": [
        "df['Price'].replace({'not_available':0},inplace=True)"
      ],
      "execution_count": 0,
      "outputs": []
    },
    {
      "cell_type": "code",
      "metadata": {
        "id": "CoX6yT8Y1uGM",
        "colab_type": "code",
        "outputId": "0fb66ea4-1e91-4539-be56-a24ddaa7ff31",
        "colab": {
          "base_uri": "https://localhost:8080/",
          "height": 34
        }
      },
      "source": [
        "validate=df[df['Price']==0]\n",
        "validate.shape"
      ],
      "execution_count": 73,
      "outputs": [
        {
          "output_type": "execute_result",
          "data": {
            "text/plain": [
              "(3499, 8)"
            ]
          },
          "metadata": {
            "tags": []
          },
          "execution_count": 73
        }
      ]
    },
    {
      "cell_type": "markdown",
      "metadata": {
        "id": "aCzBB9PqgUCx",
        "colab_type": "text"
      },
      "source": [
        "storing the price values of zero's instead of dropping or removing"
      ]
    },
    {
      "cell_type": "code",
      "metadata": {
        "id": "8O91UflA2X93",
        "colab_type": "code",
        "outputId": "72a7fd55-bdf4-4ca0-8968-500d35e09991",
        "colab": {
          "base_uri": "https://localhost:8080/",
          "height": 34
        }
      },
      "source": [
        "df1=df[~(df['Price']==0)]\n",
        "df1.shape"
      ],
      "execution_count": 74,
      "outputs": [
        {
          "output_type": "execute_result",
          "data": {
            "text/plain": [
              "(48001, 8)"
            ]
          },
          "metadata": {
            "tags": []
          },
          "execution_count": 74
        }
      ]
    },
    {
      "cell_type": "code",
      "metadata": {
        "id": "wFgANMOY2YXj",
        "colab_type": "code",
        "colab": {}
      },
      "source": [
        "df1['Price']=df1['Price'].astype('float')"
      ],
      "execution_count": 0,
      "outputs": []
    },
    {
      "cell_type": "code",
      "metadata": {
        "id": "TIjptF422YaX",
        "colab_type": "code",
        "outputId": "be0c6ee5-d144-4dfc-9480-7ee0f0605465",
        "colab": {
          "base_uri": "https://localhost:8080/",
          "height": 235
        }
      },
      "source": [
        "df1.info()"
      ],
      "execution_count": 76,
      "outputs": [
        {
          "output_type": "stream",
          "text": [
            "<class 'pandas.core.frame.DataFrame'>\n",
            "Int64Index: 48001 entries, 0 to 51499\n",
            "Data columns (total 8 columns):\n",
            "Unique Id         48001 non-null object\n",
            "Image             44864 non-null object\n",
            "Brand             47999 non-null object\n",
            "Title             48000 non-null object\n",
            "Specifications    48001 non-null object\n",
            "Highlights        48000 non-null object\n",
            "Price             48001 non-null float64\n",
            "Rating            48001 non-null float64\n",
            "dtypes: float64(2), object(6)\n",
            "memory usage: 3.3+ MB\n"
          ],
          "name": "stdout"
        }
      ]
    },
    {
      "cell_type": "code",
      "metadata": {
        "id": "q3sDOPGVa5v0",
        "colab_type": "code",
        "outputId": "c44666fa-4040-474c-d81f-b675ba89f4a9",
        "colab": {
          "base_uri": "https://localhost:8080/",
          "height": 1000
        }
      },
      "source": [
        "plt.figure(figsize=(20,20))\n",
        "sns.heatmap(df.isnull())"
      ],
      "execution_count": 77,
      "outputs": [
        {
          "output_type": "execute_result",
          "data": {
            "text/plain": [
              "<matplotlib.axes._subplots.AxesSubplot at 0x7f6515adaf60>"
            ]
          },
          "metadata": {
            "tags": []
          },
          "execution_count": 77
        },
        {
          "output_type": "display_data",
          "data": {
            "image/png": "[encoded data removed]",
            "text/plain": [
              "<Figure size 1440x1440 with 2 Axes>"
            ]
          },
          "metadata": {
            "tags": []
          }
        }
      ]
    },
    {
      "cell_type": "markdown",
      "metadata": {
        "id": "2TkRboXWGBG1",
        "colab_type": "text"
      },
      "source": [
        "Checking for frequenct null values among rows by using heatmap and found that in images column there are null values."
      ]
    },
    {
      "cell_type": "code",
      "metadata": {
        "id": "73jLvGBbyDqB",
        "colab_type": "code",
        "outputId": "3c2e6e6d-1430-4f1d-9d14-c0dcae262945",
        "colab": {
          "base_uri": "https://localhost:8080/",
          "height": 50
        }
      },
      "source": [
        "print(validate.shape)\n",
        "print(df1.shape)"
      ],
      "execution_count": 78,
      "outputs": [
        {
          "output_type": "stream",
          "text": [
            "(3499, 8)\n",
            "(48001, 8)\n"
          ],
          "name": "stdout"
        }
      ]
    },
    {
      "cell_type": "code",
      "metadata": {
        "id": "9XVq3mIgbJY7",
        "colab_type": "code",
        "outputId": "a7fa9c1a-4492-49ad-a995-45713034435b",
        "colab": {
          "base_uri": "https://localhost:8080/",
          "height": 195
        }
      },
      "source": [
        "df1.drop(['Image','Unique Id','Specifications'],axis=1,inplace=True)\n",
        "df1.head()"
      ],
      "execution_count": 79,
      "outputs": [
        {
          "output_type": "execute_result",
          "data": {
            "text/html": [
              "<div>\n",
              "<style scoped>\n",
              "    .dataframe tbody tr th:only-of-type {\n",
              "        vertical-align: middle;\n",
              "    }\n",
              "\n",
              "    .dataframe tbody tr th {\n",
              "        vertical-align: top;\n",
              "    }\n",
              "\n",
              "    .dataframe thead th {\n",
              "        text-align: right;\n",
              "    }\n",
              "</style>\n",
              "<table border=\"1\" class=\"dataframe\">\n",
              "  <thead>\n",
              "    <tr style=\"text-align: right;\">\n",
              "      <th></th>\n",
              "      <th>Brand</th>\n",
              "      <th>Title</th>\n",
              "      <th>Highlights</th>\n",
              "      <th>Price</th>\n",
              "      <th>Rating</th>\n",
              "    </tr>\n",
              "  </thead>\n",
              "  <tbody>\n",
              "    <tr>\n",
              "      <th>0</th>\n",
              "      <td>RoadPro</td>\n",
              "      <td>RoadPro RP-100C 10' AM/FM Antenna Coaxial Cable</td>\n",
              "      <td>Make sure this fits by entering your model num...</td>\n",
              "      <td>12.99</td>\n",
              "      <td>4.7</td>\n",
              "    </tr>\n",
              "    <tr>\n",
              "      <th>1</th>\n",
              "      <td>YSense</td>\n",
              "      <td>5-6 Packs Baby Girl Cute Headband - Turban Hea...</td>\n",
              "      <td>Material: Made of elastic synthetic cotton, so...</td>\n",
              "      <td>9.99</td>\n",
              "      <td>5.0</td>\n",
              "    </tr>\n",
              "    <tr>\n",
              "      <th>2</th>\n",
              "      <td>Wooden Camera</td>\n",
              "      <td>Wooden Camera - PL Mount (Weapon/Scarlet-W/Epi...</td>\n",
              "      <td>Make sure this fits by entering your model num...</td>\n",
              "      <td>379.18</td>\n",
              "      <td>3.3</td>\n",
              "    </tr>\n",
              "    <tr>\n",
              "      <th>3</th>\n",
              "      <td>Global-store</td>\n",
              "      <td>Globalstore 12x25 Folding High-Grade Binocular...</td>\n",
              "      <td>Make sure this fits by entering your model num...</td>\n",
              "      <td>19.97</td>\n",
              "      <td>5.0</td>\n",
              "    </tr>\n",
              "    <tr>\n",
              "      <th>4</th>\n",
              "      <td>GBTIGER</td>\n",
              "      <td>120 inch Portable Projection Screen with Bag, ...</td>\n",
              "      <td>Make sure this fits by entering your model num...</td>\n",
              "      <td>27.99</td>\n",
              "      <td>3.0</td>\n",
              "    </tr>\n",
              "  </tbody>\n",
              "</table>\n",
              "</div>"
            ],
            "text/plain": [
              "           Brand  ... Rating\n",
              "0        RoadPro  ...    4.7\n",
              "1         YSense  ...    5.0\n",
              "2  Wooden Camera  ...    3.3\n",
              "3   Global-store  ...    5.0\n",
              "4        GBTIGER  ...    3.0\n",
              "\n",
              "[5 rows x 5 columns]"
            ]
          },
          "metadata": {
            "tags": []
          },
          "execution_count": 79
        }
      ]
    },
    {
      "cell_type": "code",
      "metadata": {
        "id": "TzA4et9UcaBO",
        "colab_type": "code",
        "outputId": "fd819bac-f4a6-4bcf-961f-95ad628cdaa1",
        "colab": {
          "base_uri": "https://localhost:8080/",
          "height": 118
        }
      },
      "source": [
        "df1.isnull().sum()"
      ],
      "execution_count": 80,
      "outputs": [
        {
          "output_type": "execute_result",
          "data": {
            "text/plain": [
              "Brand         2\n",
              "Title         1\n",
              "Highlights    1\n",
              "Price         0\n",
              "Rating        0\n",
              "dtype: int64"
            ]
          },
          "metadata": {
            "tags": []
          },
          "execution_count": 80
        }
      ]
    },
    {
      "cell_type": "code",
      "metadata": {
        "id": "Skaj6P2IcpmP",
        "colab_type": "code",
        "colab": {}
      },
      "source": [
        "df1.dropna(inplace=True)"
      ],
      "execution_count": 0,
      "outputs": []
    },
    {
      "cell_type": "markdown",
      "metadata": {
        "id": "S5IZUTCakXGZ",
        "colab_type": "text"
      },
      "source": [
        "### PRICE"
      ]
    },
    {
      "cell_type": "code",
      "metadata": {
        "id": "qhjESCkbkZxk",
        "colab_type": "code",
        "outputId": "adfebc48-1d9b-4dc4-a499-980ec762c106",
        "colab": {
          "base_uri": "https://localhost:8080/",
          "height": 168
        }
      },
      "source": [
        "df1['Price'].describe()"
      ],
      "execution_count": 82,
      "outputs": [
        {
          "output_type": "execute_result",
          "data": {
            "text/plain": [
              "count    47997.000000\n",
              "mean        57.692697\n",
              "std        224.295100\n",
              "min          0.010000\n",
              "25%         11.500000\n",
              "50%         19.930000\n",
              "75%         40.210000\n",
              "max      16239.030000\n",
              "Name: Price, dtype: float64"
            ]
          },
          "metadata": {
            "tags": []
          },
          "execution_count": 82
        }
      ]
    },
    {
      "cell_type": "code",
      "metadata": {
        "id": "EX_ehkFGKoos",
        "colab_type": "code",
        "colab": {}
      },
      "source": [
        "price_comparision=[]\n",
        "for i in df1['Price']:\n",
        "  if(i<=20):\n",
        "    price_comparision.append(\"Low\")\n",
        "  elif(i<=41):\n",
        "    price_comparision.append(\"Medium\")\n",
        "  else:\n",
        "    price_comparision.append(\"High\")"
      ],
      "execution_count": 0,
      "outputs": []
    },
    {
      "cell_type": "code",
      "metadata": {
        "id": "-WmMqNMDLSjj",
        "colab_type": "code",
        "colab": {
          "base_uri": "https://localhost:8080/",
          "height": 282
        },
        "outputId": "13d25879-2118-4fa0-e518-c93d6368af19"
      },
      "source": [
        "sns.countplot(price_comparision)"
      ],
      "execution_count": 84,
      "outputs": [
        {
          "output_type": "execute_result",
          "data": {
            "text/plain": [
              "<matplotlib.axes._subplots.AxesSubplot at 0x7f65159a3048>"
            ]
          },
          "metadata": {
            "tags": []
          },
          "execution_count": 84
        },
        {
          "output_type": "display_data",
          "data": {
            "image/png": "[encoded data removed]",
            "text/plain": [
              "<Figure size 432x288 with 1 Axes>"
            ]
          },
          "metadata": {
            "tags": []
          }
        }
      ]
    },
    {
      "cell_type": "markdown",
      "metadata": {
        "id": "CX9bQ7JzLbBy",
        "colab_type": "text"
      },
      "source": [
        "Low priced item are more when compared to high and medium priced item. Shayak selling having 52.6 % of low priced items, medium and high items products equally."
      ]
    },
    {
      "cell_type": "code",
      "metadata": {
        "id": "qpc5nk0Qkioa",
        "colab_type": "code",
        "outputId": "62c1a427-fa2d-477a-ee4e-a0ce4284afc3",
        "colab": {
          "base_uri": "https://localhost:8080/",
          "height": 424
        }
      },
      "source": [
        "(df1['Price']).plot.hist(bins=50, figsize=(12, 6), edgecolor = 'white', range = [0, 100])\n",
        "plt.xlabel('price', fontsize=12)\n",
        "plt.title('Price Distribution', fontsize=12)\n"
      ],
      "execution_count": 85,
      "outputs": [
        {
          "output_type": "execute_result",
          "data": {
            "text/plain": [
              "Text(0.5, 1.0, 'Price Distribution')"
            ]
          },
          "metadata": {
            "tags": []
          },
          "execution_count": 85
        },
        {
          "output_type": "display_data",
          "data": {
            "image/png": "[encoded data removed]",
            "text/plain": [
              "<Figure size 864x432 with 1 Axes>"
            ]
          },
          "metadata": {
            "tags": []
          }
        }
      ]
    },
    {
      "cell_type": "markdown",
      "metadata": {
        "id": "ibj8pOTi8MJj",
        "colab_type": "text"
      },
      "source": [
        "The price of items are left skewed, vast majority of items priced at 10-20. However the highest priced item is at 16239."
      ]
    },
    {
      "cell_type": "code",
      "metadata": {
        "id": "XgS3NYRxThj1",
        "colab_type": "code",
        "outputId": "c959e04d-e2ed-4d8a-c84f-bb591a136f4a",
        "colab": {
          "base_uri": "https://localhost:8080/",
          "height": 424
        }
      },
      "source": [
        "import numpy as np\n",
        "np.log(df1['Price']+1).plot.hist(bins=50, figsize=(12,6), edgecolor='white')\n",
        "plt.xlabel('log(price+1)', fontsize=12)\n",
        "plt.title('Price Distribution', fontsize=12)"
      ],
      "execution_count": 86,
      "outputs": [
        {
          "output_type": "execute_result",
          "data": {
            "text/plain": [
              "Text(0.5, 1.0, 'Price Distribution')"
            ]
          },
          "metadata": {
            "tags": []
          },
          "execution_count": 86
        },
        {
          "output_type": "display_data",
          "data": {
            "image/png": "[encoded data removed]",
            "text/plain": [
              "<Figure size 864x432 with 1 Axes>"
            ]
          },
          "metadata": {
            "tags": []
          }
        }
      ]
    },
    {
      "cell_type": "markdown",
      "metadata": {
        "id": "cI248yhBUGFZ",
        "colab_type": "text"
      },
      "source": [
        "Due to skewness, applied log transformation on price"
      ]
    },
    {
      "cell_type": "code",
      "metadata": {
        "id": "cZ9yoBGCkuXO",
        "colab_type": "code",
        "outputId": "15af3041-f2c0-4a78-9e2d-a37323e09b0d",
        "colab": {
          "base_uri": "https://localhost:8080/",
          "height": 424
        }
      },
      "source": [
        "(df1['Rating']).plot.hist(bins=50, figsize=(12, 6), edgecolor = 'white')\n",
        "plt.xlabel('Rating', fontsize=12)\n",
        "plt.title('Rating Distribution', fontsize=12)"
      ],
      "execution_count": 87,
      "outputs": [
        {
          "output_type": "execute_result",
          "data": {
            "text/plain": [
              "Text(0.5, 1.0, 'Rating Distribution')"
            ]
          },
          "metadata": {
            "tags": []
          },
          "execution_count": 87
        },
        {
          "output_type": "display_data",
          "data": {
            "image/png": "[encoded data removed]",
            "text/plain": [
              "<Figure size 864x432 with 1 Axes>"
            ]
          },
          "metadata": {
            "tags": []
          }
        }
      ]
    },
    {
      "cell_type": "markdown",
      "metadata": {
        "id": "PWbxUK5lHpIg",
        "colab_type": "text"
      },
      "source": [
        "Around 17500 products are with the zero rating. Other rating for the product are less in count."
      ]
    },
    {
      "cell_type": "code",
      "metadata": {
        "id": "O5x1rDAKTTwG",
        "colab_type": "code",
        "colab": {}
      },
      "source": [
        "df1['price_comparision']=price_comparision"
      ],
      "execution_count": 0,
      "outputs": []
    },
    {
      "cell_type": "code",
      "metadata": {
        "id": "21QARKd5PCwR",
        "colab_type": "code",
        "colab": {
          "base_uri": "https://localhost:8080/",
          "height": 514
        },
        "outputId": "9e29b124-886b-4568-f827-8a5489659c2d"
      },
      "source": [
        "plt.figure(figsize=(10,8))\n",
        "sns.countplot(df1['Rating'],hue=df1['price_comparision'])"
      ],
      "execution_count": 89,
      "outputs": [
        {
          "output_type": "execute_result",
          "data": {
            "text/plain": [
              "<matplotlib.axes._subplots.AxesSubplot at 0x7f65156132b0>"
            ]
          },
          "metadata": {
            "tags": []
          },
          "execution_count": 89
        },
        {
          "output_type": "display_data",
          "data": {
            "image/png": "[encoded data removed]",
            "text/plain": [
              "<Figure size 720x576 with 1 Axes>"
            ]
          },
          "metadata": {
            "tags": []
          }
        }
      ]
    },
    {
      "cell_type": "markdown",
      "metadata": {
        "id": "WMTIgeNlQiLD",
        "colab_type": "text"
      },
      "source": [
        "Among overall Rating given to the items, the 0 rating item have all the three priced items and low priced items are more under the ratings 0 and 5 compared to other priced items."
      ]
    },
    {
      "cell_type": "code",
      "metadata": {
        "id": "S7MRPsCXzHbh",
        "colab_type": "code",
        "outputId": "fd5e82b2-e917-4f2a-bf33-274de531ee10",
        "colab": {
          "base_uri": "https://localhost:8080/",
          "height": 34
        }
      },
      "source": [
        "df1.columns"
      ],
      "execution_count": 90,
      "outputs": [
        {
          "output_type": "execute_result",
          "data": {
            "text/plain": [
              "Index(['Brand', 'Title', 'Highlights', 'Price', 'Rating', 'price_comparision'], dtype='object')"
            ]
          },
          "metadata": {
            "tags": []
          },
          "execution_count": 90
        }
      ]
    },
    {
      "cell_type": "markdown",
      "metadata": {
        "id": "U0MUUPOjgqvb",
        "colab_type": "text"
      },
      "source": [
        "Removing the values which containing \"not_available\" in Highlights, title, brand columns"
      ]
    },
    {
      "cell_type": "code",
      "metadata": {
        "id": "PhUR7FoZ9rE-",
        "colab_type": "code",
        "colab": {}
      },
      "source": [
        "df1.drop(['Highlights'],axis=1,inplace=True)"
      ],
      "execution_count": 0,
      "outputs": []
    },
    {
      "cell_type": "code",
      "metadata": {
        "id": "8pvcfnUVAbH-",
        "colab_type": "code",
        "colab": {}
      },
      "source": [
        "df2=df1[~(df1['Title']=='not_available')]"
      ],
      "execution_count": 0,
      "outputs": []
    },
    {
      "cell_type": "code",
      "metadata": {
        "id": "ONZ3lNUZAgbA",
        "colab_type": "code",
        "outputId": "9f4de0a0-e70a-49e6-b453-01380b0e6309",
        "colab": {
          "base_uri": "https://localhost:8080/",
          "height": 34
        }
      },
      "source": [
        "df2.columns"
      ],
      "execution_count": 93,
      "outputs": [
        {
          "output_type": "execute_result",
          "data": {
            "text/plain": [
              "Index(['Brand', 'Title', 'Price', 'Rating', 'price_comparision'], dtype='object')"
            ]
          },
          "metadata": {
            "tags": []
          },
          "execution_count": 93
        }
      ]
    },
    {
      "cell_type": "code",
      "metadata": {
        "id": "pC3ZP-ozAzDL",
        "colab_type": "code",
        "colab": {}
      },
      "source": [
        "df3=df2[~(df2['Brand']=='not_available')]"
      ],
      "execution_count": 0,
      "outputs": []
    },
    {
      "cell_type": "code",
      "metadata": {
        "id": "CEPVeMGRBBtB",
        "colab_type": "code",
        "outputId": "13e0bc54-9efe-4d21-acad-9c4527f0fe2f",
        "colab": {
          "base_uri": "https://localhost:8080/",
          "height": 34
        }
      },
      "source": [
        "df3.shape"
      ],
      "execution_count": 95,
      "outputs": [
        {
          "output_type": "execute_result",
          "data": {
            "text/plain": [
              "(47928, 5)"
            ]
          },
          "metadata": {
            "tags": []
          },
          "execution_count": 95
        }
      ]
    },
    {
      "cell_type": "code",
      "metadata": {
        "id": "ICfY5dqJBYnj",
        "colab_type": "code",
        "outputId": "32d63145-cf2a-4197-cc0a-e100781740d7",
        "colab": {
          "base_uri": "https://localhost:8080/",
          "height": 195
        }
      },
      "source": [
        "df3.head()"
      ],
      "execution_count": 96,
      "outputs": [
        {
          "output_type": "execute_result",
          "data": {
            "text/html": [
              "<div>\n",
              "<style scoped>\n",
              "    .dataframe tbody tr th:only-of-type {\n",
              "        vertical-align: middle;\n",
              "    }\n",
              "\n",
              "    .dataframe tbody tr th {\n",
              "        vertical-align: top;\n",
              "    }\n",
              "\n",
              "    .dataframe thead th {\n",
              "        text-align: right;\n",
              "    }\n",
              "</style>\n",
              "<table border=\"1\" class=\"dataframe\">\n",
              "  <thead>\n",
              "    <tr style=\"text-align: right;\">\n",
              "      <th></th>\n",
              "      <th>Brand</th>\n",
              "      <th>Title</th>\n",
              "      <th>Price</th>\n",
              "      <th>Rating</th>\n",
              "      <th>price_comparision</th>\n",
              "    </tr>\n",
              "  </thead>\n",
              "  <tbody>\n",
              "    <tr>\n",
              "      <th>0</th>\n",
              "      <td>RoadPro</td>\n",
              "      <td>RoadPro RP-100C 10' AM/FM Antenna Coaxial Cable</td>\n",
              "      <td>12.99</td>\n",
              "      <td>4.7</td>\n",
              "      <td>Low</td>\n",
              "    </tr>\n",
              "    <tr>\n",
              "      <th>1</th>\n",
              "      <td>YSense</td>\n",
              "      <td>5-6 Packs Baby Girl Cute Headband - Turban Hea...</td>\n",
              "      <td>9.99</td>\n",
              "      <td>5.0</td>\n",
              "      <td>Low</td>\n",
              "    </tr>\n",
              "    <tr>\n",
              "      <th>2</th>\n",
              "      <td>Wooden Camera</td>\n",
              "      <td>Wooden Camera - PL Mount (Weapon/Scarlet-W/Epi...</td>\n",
              "      <td>379.18</td>\n",
              "      <td>3.3</td>\n",
              "      <td>High</td>\n",
              "    </tr>\n",
              "    <tr>\n",
              "      <th>3</th>\n",
              "      <td>Global-store</td>\n",
              "      <td>Globalstore 12x25 Folding High-Grade Binocular...</td>\n",
              "      <td>19.97</td>\n",
              "      <td>5.0</td>\n",
              "      <td>Low</td>\n",
              "    </tr>\n",
              "    <tr>\n",
              "      <th>4</th>\n",
              "      <td>GBTIGER</td>\n",
              "      <td>120 inch Portable Projection Screen with Bag, ...</td>\n",
              "      <td>27.99</td>\n",
              "      <td>3.0</td>\n",
              "      <td>Medium</td>\n",
              "    </tr>\n",
              "  </tbody>\n",
              "</table>\n",
              "</div>"
            ],
            "text/plain": [
              "           Brand  ... price_comparision\n",
              "0        RoadPro  ...               Low\n",
              "1         YSense  ...               Low\n",
              "2  Wooden Camera  ...              High\n",
              "3   Global-store  ...               Low\n",
              "4        GBTIGER  ...            Medium\n",
              "\n",
              "[5 rows x 5 columns]"
            ]
          },
          "metadata": {
            "tags": []
          },
          "execution_count": 96
        }
      ]
    },
    {
      "cell_type": "code",
      "metadata": {
        "id": "3nyfX_91BoWh",
        "colab_type": "code",
        "colab": {}
      },
      "source": [
        "from sklearn.feature_extraction.text import CountVectorizer, TfidfVectorizer\n",
        "from sklearn.preprocessing import LabelBinarizer, LabelEncoder\n",
        "from sklearn.model_selection import train_test_split, cross_val_score\n",
        "from sklearn.metrics import mean_squared_error"
      ],
      "execution_count": 0,
      "outputs": []
    },
    {
      "cell_type": "code",
      "metadata": {
        "id": "NnthFci5F8tq",
        "colab_type": "code",
        "colab": {}
      },
      "source": [
        "from scipy.sparse import csr_matrix, hstack\n",
        "import lightgbm as lgb"
      ],
      "execution_count": 0,
      "outputs": []
    },
    {
      "cell_type": "code",
      "metadata": {
        "id": "It2rH9xnF_XB",
        "colab_type": "code",
        "colab": {}
      },
      "source": [
        "brand=[]\n",
        "for i in df3['Brand']:\n",
        "  brand.append(i.replace('/',''))\n"
      ],
      "execution_count": 0,
      "outputs": []
    },
    {
      "cell_type": "code",
      "metadata": {
        "id": "O5TSAbieHU6T",
        "colab_type": "code",
        "colab": {}
      },
      "source": [
        "df3['brand']=brand"
      ],
      "execution_count": 0,
      "outputs": []
    },
    {
      "cell_type": "code",
      "metadata": {
        "id": "oHiz7IPJHq_t",
        "colab_type": "code",
        "outputId": "72102f9a-daa9-416c-b10e-2e74b6ff3ba3",
        "colab": {
          "base_uri": "https://localhost:8080/",
          "height": 218
        }
      },
      "source": [
        "df3.brand.value_counts()"
      ],
      "execution_count": 101,
      "outputs": [
        {
          "output_type": "execute_result",
          "data": {
            "text/plain": [
              "Nike              278\n",
              "Under-Armour      236\n",
              "uxcell            186\n",
              "Disney            152\n",
              "Columbia          143\n",
              "                 ... \n",
              "25DOL               1\n",
              "Minute Man          1\n",
              "Discovery Kids      1\n",
              "Elegance Linen      1\n",
              "DOGOON              1\n",
              "Name: brand, Length: 24434, dtype: int64"
            ]
          },
          "metadata": {
            "tags": []
          },
          "execution_count": 101
        }
      ]
    },
    {
      "cell_type": "code",
      "metadata": {
        "id": "zgB3rB3AIKBD",
        "colab_type": "code",
        "outputId": "ea52c294-3f4d-4986-f730-0de2d5980d20",
        "colab": {
          "base_uri": "https://localhost:8080/",
          "height": 218
        }
      },
      "source": [
        "df3['Brand'].value_counts()"
      ],
      "execution_count": 102,
      "outputs": [
        {
          "output_type": "execute_result",
          "data": {
            "text/plain": [
              "/Nike            243\n",
              "/Under-Armour    236\n",
              "uxcell           186\n",
              "/Columbia        139\n",
              "/PUMA            126\n",
              "                ... \n",
              "KSZ TRADERS        1\n",
              "Vaexheart          1\n",
              "MeliMe             1\n",
              "JPH                1\n",
              "Imrue Beauty       1\n",
              "Name: Brand, Length: 24509, dtype: int64"
            ]
          },
          "metadata": {
            "tags": []
          },
          "execution_count": 102
        }
      ]
    },
    {
      "cell_type": "code",
      "metadata": {
        "id": "4acumuW0KZb1",
        "colab_type": "code",
        "colab": {}
      },
      "source": [
        "s=[]\n",
        "for i in df3['brand']:\n",
        "  j=i.split(\":\")\n",
        "  if(j[0]=='https'):\n",
        "    s.append(i)"
      ],
      "execution_count": 0,
      "outputs": []
    },
    {
      "cell_type": "code",
      "metadata": {
        "id": "K-6kXGT-LFWh",
        "colab_type": "code",
        "outputId": "d20cfbac-edf3-4ed2-a0bf-2c387c58ed7c",
        "colab": {
          "base_uri": "https://localhost:8080/",
          "height": 34
        }
      },
      "source": [
        "len(s)"
      ],
      "execution_count": 104,
      "outputs": [
        {
          "output_type": "execute_result",
          "data": {
            "text/plain": [
              "272"
            ]
          },
          "metadata": {
            "tags": []
          },
          "execution_count": 104
        }
      ]
    },
    {
      "cell_type": "markdown",
      "metadata": {
        "id": "t2XER5mwLSvN",
        "colab_type": "text"
      },
      "source": [
        "Here we have 272 links directly instead of Brand Names."
      ]
    },
    {
      "cell_type": "code",
      "metadata": {
        "id": "H10EwNDDOkxD",
        "colab_type": "code",
        "outputId": "a9990fb2-6870-4919-d60f-178ab2df8698",
        "colab": {
          "base_uri": "https://localhost:8080/",
          "height": 34
        }
      },
      "source": [
        "df3.columns"
      ],
      "execution_count": 105,
      "outputs": [
        {
          "output_type": "execute_result",
          "data": {
            "text/plain": [
              "Index(['Brand', 'Title', 'Price', 'Rating', 'price_comparision', 'brand'], dtype='object')"
            ]
          },
          "metadata": {
            "tags": []
          },
          "execution_count": 105
        }
      ]
    },
    {
      "cell_type": "code",
      "metadata": {
        "id": "RXMER-pTOUOC",
        "colab_type": "code",
        "colab": {}
      },
      "source": [
        "tv = TfidfVectorizer( ngram_range=(1, 3), stop_words='english')\n",
        "X_Title = tv.fit_transform(df3['Title'])"
      ],
      "execution_count": 0,
      "outputs": []
    },
    {
      "cell_type": "code",
      "metadata": {
        "id": "dILS6DCYOUKr",
        "colab_type": "code",
        "colab": {}
      },
      "source": [
        "lb = LabelBinarizer(sparse_output=True)\n",
        "X_brand = lb.fit_transform(df3['brand'])"
      ],
      "execution_count": 0,
      "outputs": []
    },
    {
      "cell_type": "code",
      "metadata": {
        "id": "hV5eB7wiOUIj",
        "colab_type": "code",
        "outputId": "42994486-c561-4e33-c8dc-49a3e85ab681",
        "colab": {
          "base_uri": "https://localhost:8080/",
          "height": 34
        }
      },
      "source": [
        "X_brand.shape"
      ],
      "execution_count": 108,
      "outputs": [
        {
          "output_type": "execute_result",
          "data": {
            "text/plain": [
              "(47928, 24434)"
            ]
          },
          "metadata": {
            "tags": []
          },
          "execution_count": 108
        }
      ]
    },
    {
      "cell_type": "code",
      "metadata": {
        "id": "kxH7cZCBQtCc",
        "colab_type": "code",
        "colab": {}
      },
      "source": [
        "import scipy\n",
        "X_rating=scipy.sparse.csr_matrix(df3['Rating'])"
      ],
      "execution_count": 0,
      "outputs": []
    },
    {
      "cell_type": "code",
      "metadata": {
        "id": "HJUGjqUbS1xG",
        "colab_type": "code",
        "colab": {}
      },
      "source": [
        "import numpy \n",
        "X_Rating = numpy.transpose(X_rating)"
      ],
      "execution_count": 0,
      "outputs": []
    },
    {
      "cell_type": "markdown",
      "metadata": {
        "id": "rcJKUNiSI_2Q",
        "colab_type": "text"
      },
      "source": [
        "### Model Building:"
      ]
    },
    {
      "cell_type": "code",
      "metadata": {
        "id": "PlRZTp-5OUHM",
        "colab_type": "code",
        "colab": {}
      },
      "source": [
        "sparse = hstack((X_Title, X_brand,X_Rating)).tocsr()\n"
      ],
      "execution_count": 0,
      "outputs": []
    },
    {
      "cell_type": "code",
      "metadata": {
        "id": "ztwG9Zo1VgjC",
        "colab_type": "code",
        "colab": {}
      },
      "source": [
        "y=df3['Price']"
      ],
      "execution_count": 0,
      "outputs": []
    },
    {
      "cell_type": "code",
      "metadata": {
        "id": "bFHIGMbIOUD7",
        "colab_type": "code",
        "colab": {}
      },
      "source": [
        "X_train,X_test,ytrain,ytest=train_test_split(sparse,y,test_size=0.2,random_state=42)"
      ],
      "execution_count": 0,
      "outputs": []
    },
    {
      "cell_type": "code",
      "metadata": {
        "id": "0F5MgPkaOT_-",
        "colab_type": "code",
        "colab": {}
      },
      "source": [
        "train_X = lgb.Dataset(X_train, ytrain)"
      ],
      "execution_count": 0,
      "outputs": []
    },
    {
      "cell_type": "code",
      "metadata": {
        "id": "kL5TffP9Whnf",
        "colab_type": "code",
        "colab": {}
      },
      "source": [
        "params = {\n",
        "        'learning_rate': 0.75,\n",
        "        'application': 'regression',\n",
        "        'max_depth': 3,\n",
        "        'num_leaves': 100,\n",
        "        'verbosity': -1,\n",
        "        'metric': 'RMSE',\n",
        "    }"
      ],
      "execution_count": 0,
      "outputs": []
    },
    {
      "cell_type": "code",
      "metadata": {
        "id": "enW_bshgWh0l",
        "colab_type": "code",
        "colab": {}
      },
      "source": [
        "gbm = lgb.train(params, train_set=train_X, num_boost_round=3200, verbose_eval=100)"
      ],
      "execution_count": 0,
      "outputs": []
    },
    {
      "cell_type": "code",
      "metadata": {
        "id": "OGGFMuInWhyd",
        "colab_type": "code",
        "colab": {}
      },
      "source": [
        "y_pred = gbm.predict(X_test, num_iteration=gbm.best_iteration)"
      ],
      "execution_count": 0,
      "outputs": []
    },
    {
      "cell_type": "code",
      "metadata": {
        "id": "ppw0JVsMWhut",
        "colab_type": "code",
        "outputId": "c31b8ded-715b-4610-9b1c-91e64f170812",
        "colab": {
          "base_uri": "https://localhost:8080/",
          "height": 34
        }
      },
      "source": [
        "rmse=mean_squared_error(ytest, y_pred) ** 0.5\n",
        "print('The rmse of prediction is:',rmse )"
      ],
      "execution_count": 118,
      "outputs": [
        {
          "output_type": "stream",
          "text": [
            "The rmse of prediction is: 208.50038482607926\n"
          ],
          "name": "stdout"
        }
      ]
    },
    {
      "cell_type": "code",
      "metadata": {
        "id": "Q36coP6mWhs5",
        "colab_type": "code",
        "outputId": "2bf43fe2-1548-44dd-d131-f1c2246c9ac6",
        "colab": {
          "base_uri": "https://localhost:8080/",
          "height": 34
        }
      },
      "source": [
        "r2=r2_score(ytest,y_pred)\n",
        "print(\"The r2_score is: \",r2)"
      ],
      "execution_count": 119,
      "outputs": [
        {
          "output_type": "stream",
          "text": [
            "The r2_score is:  0.33546838814375946\n"
          ],
          "name": "stdout"
        }
      ]
    },
    {
      "cell_type": "markdown",
      "metadata": {
        "id": "vNz6fG5LelK6",
        "colab_type": "text"
      },
      "source": [
        "Here without transforming of price values got an rmse value of 208.5 and r2 score 0.33."
      ]
    },
    {
      "cell_type": "code",
      "metadata": {
        "id": "ssyPRPRai1Oi",
        "colab_type": "code",
        "colab": {}
      },
      "source": [
        ""
      ],
      "execution_count": 0,
      "outputs": []
    },
    {
      "cell_type": "markdown",
      "metadata": {
        "id": "KeDPNOXfJhUj",
        "colab_type": "text"
      },
      "source": [
        "Transforming the Price values:"
      ]
    },
    {
      "cell_type": "code",
      "metadata": {
        "id": "WMtNeNBcWhqx",
        "colab_type": "code",
        "colab": {}
      },
      "source": [
        "log_y = np.log1p(df3[\"Price\"])"
      ],
      "execution_count": 0,
      "outputs": []
    },
    {
      "cell_type": "code",
      "metadata": {
        "id": "tL67ys2vIbBY",
        "colab_type": "code",
        "outputId": "52e9989b-cbc8-47e3-e709-84303323d363",
        "colab": {
          "base_uri": "https://localhost:8080/",
          "height": 50
        }
      },
      "source": [
        "X_train1,X_test1,ytrain1,ytest1=train_test_split(sparse,log_y,test_size=0.2,random_state=42)\n",
        "train_X1 = lgb.Dataset(X_train1, ytrain1)\n",
        "gbm = lgb.train(params, train_set=train_X1, num_boost_round=3200, verbose_eval=100)\n",
        "y_pred1 = gbm.predict(X_test, num_iteration=gbm.best_iteration)\n",
        "rmse_log=mean_squared_error(ytest1, y_pred1) ** 0.5\n",
        "print('The rmse of prediction is:',rmse_log )\n",
        "print(\"The r2_score is: \",r2_score(ytest1,y_pred1))"
      ],
      "execution_count": 121,
      "outputs": [
        {
          "output_type": "stream",
          "text": [
            "The rmse of prediction is: 0.8920495523635127\n",
            "The r2_score is:  0.2554033365826328\n"
          ],
          "name": "stdout"
        }
      ]
    },
    {
      "cell_type": "markdown",
      "metadata": {
        "id": "OGuNA5Dme2aa",
        "colab_type": "text"
      },
      "source": [
        "After Transforming the Price values in the dataset got an rmse of 0.89 and r2 score of 0.25"
      ]
    },
    {
      "cell_type": "markdown",
      "metadata": {
        "id": "ZH9kdmOESDST",
        "colab_type": "text"
      },
      "source": [
        "### Result:"
      ]
    },
    {
      "cell_type": "code",
      "metadata": {
        "id": "DEbuwrwpZS0E",
        "colab_type": "code",
        "colab": {
          "base_uri": "https://localhost:8080/",
          "height": 77
        },
        "outputId": "89b918a5-abc2-43db-aae3-6a5dda4cee09"
      },
      "source": [
        "pd.DataFrame({\"lgbm\":rmse,\"lgbm_log\":rmse_log},index=['RMSE'])"
      ],
      "execution_count": 122,
      "outputs": [
        {
          "output_type": "execute_result",
          "data": {
            "text/html": [
              "<div>\n",
              "<style scoped>\n",
              "    .dataframe tbody tr th:only-of-type {\n",
              "        vertical-align: middle;\n",
              "    }\n",
              "\n",
              "    .dataframe tbody tr th {\n",
              "        vertical-align: top;\n",
              "    }\n",
              "\n",
              "    .dataframe thead th {\n",
              "        text-align: right;\n",
              "    }\n",
              "</style>\n",
              "<table border=\"1\" class=\"dataframe\">\n",
              "  <thead>\n",
              "    <tr style=\"text-align: right;\">\n",
              "      <th></th>\n",
              "      <th>lgbm</th>\n",
              "      <th>lgbm_log</th>\n",
              "    </tr>\n",
              "  </thead>\n",
              "  <tbody>\n",
              "    <tr>\n",
              "      <th>RMSE</th>\n",
              "      <td>208.500385</td>\n",
              "      <td>0.89205</td>\n",
              "    </tr>\n",
              "  </tbody>\n",
              "</table>\n",
              "</div>"
            ],
            "text/plain": [
              "            lgbm  lgbm_log\n",
              "RMSE  208.500385   0.89205"
            ]
          },
          "metadata": {
            "tags": []
          },
          "execution_count": 122
        }
      ]
    },
    {
      "cell_type": "markdown",
      "metadata": {
        "id": "At0aDGi9SI_x",
        "colab_type": "text"
      },
      "source": [
        "Without transforming the price values of an item got an rmse values of 208.5 and r2_score of 33% as the model of independent variable are able to predict 33% of the price of items correctly.\n",
        "\n",
        "Where as after tranforming the price values of item got an rmse value of 0.89 and the model of independent variable are able to predict 25% of the price of items correctly "
      ]
    },
    {
      "cell_type": "code",
      "metadata": {
        "id": "CRcoR8bLPJIc",
        "colab_type": "code",
        "colab": {}
      },
      "source": [
        ""
      ],
      "execution_count": 0,
      "outputs": []
    }
  ]
}